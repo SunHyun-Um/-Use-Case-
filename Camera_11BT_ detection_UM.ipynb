{
 "cells": [
  {
   "cell_type": "markdown",
   "metadata": {},
   "source": [
    "# 이미지 분석 고도화 및 Use Case 확대 (11BT 공정 VGG16Net 카메라 적용, 엄선현)"
   ]
  },
  {
   "cell_type": "code",
   "execution_count": null,
   "metadata": {},
   "outputs": [],
   "source": [
    "import PySpin\n",
    "import cv2\n",
    "import matplotlib.pyplot as plt\n",
    "import datetime\n",
    "import numpy as np\n",
    "import time"
   ]
  },
  {
   "cell_type": "code",
   "execution_count": 3,
   "metadata": {},
   "outputs": [],
   "source": [
    "from tensorflow.keras import applications, optimizers\n",
    "from tensorflow.keras.preprocessing.image import ImageDataGenerator\n",
    "from tensorflow.keras.models import Sequential\n",
    "from tensorflow.keras.layers import Dropout, Flatten, Dense, Input\n",
    "import tensorflow as tf"
   ]
  },
  {
   "cell_type": "code",
   "execution_count": 4,
   "metadata": {},
   "outputs": [],
   "source": [
    "input_tensor = Input(shape=(224,224,3))\n",
    "model = applications.VGG16(include_top=False,\n",
    "                           input_tensor=input_tensor)\n",
    "new_model = Sequential()\n",
    "for l in model.layers:\n",
    "    new_model.add(l)\n",
    "#불러온 모델에 레이어를 붙일 수가 없어 새로운 모델을 선언하여 똑같은 vgg모델을 만드는 코드\n",
    "new_model.add(Flatten()) # 1차원의 벡터로 펼쳐주는 역할\n",
    "new_model.add(Dense(4096, activation='relu'))\n",
    "new_model.add(Dense(4096, activation='relu'))\n",
    "new_model.add(Dense(2, activation='softmax')) #출력값을 2개로 softmax함수로 활성화하는 코드"
   ]
  },
  {
   "cell_type": "code",
   "execution_count": null,
   "metadata": {},
   "outputs": [],
   "source": [
    "new_model.load_weights(r\"C:\\um\\new11bt/lbp_vgg16_test.h5\") #가중치를 로드하는 코드"
   ]
  },
  {
   "cell_type": "code",
   "execution_count": null,
   "metadata": {},
   "outputs": [],
   "source": [
    "cut_line = lambda x : x[450:550:,600:700]"
   ]
  },
  {
   "cell_type": "code",
   "execution_count": 2,
   "metadata": {
    "scrolled": true
   },
   "outputs": [],
   "source": [
    "system = PySpin.System.GetInstance()\n",
    "cam_list = system.GetCameras()\n",
    "#for i, cam in enumerate(cam_list):\n",
    "#    print(i,cam)\n"
   ]
  },
  {
   "cell_type": "code",
   "execution_count": null,
   "metadata": {},
   "outputs": [],
   "source": [
    "system = PySpin.System.GetInstance()\n",
    "\n",
    "a_detected = []  #불량 데이터를 담을 공간\n",
    "n_detected = []  #정상 데이터를 담을 공간\n",
    "\n",
    "Width = 960\n",
    "Height = 960\n",
    "\n",
    "\n",
    "cam_list = system.GetCameras()\n",
    "for i, cam in enumerate(cam_list):\n",
    "    print(i,cam)\n",
    "# 따라서 cam1에는 첫번째 카메라를 담음.\n",
    "    cam1 = cam_list[0]\n",
    "\n",
    "#첫번째 카메라\n",
    "    cam1.Init()\n",
    "    #cam1.AcquisitionMode.SetValue(PySpin.AcquisitionMode_Continuous) 카메라 세팅 설정하는 부분\n",
    "    #cam1.PixelFormat.SetValue(PySpin.PixelFormat_BGR8) 카메라 세팅 설정하는 부분\n",
    "    cam1.BeginAcquisition()\n",
    "\n",
    "\n",
    "    while(True):\n",
    "        \n",
    "        # 1번 카메라\n",
    "        \n",
    "        image_result1 = cam1.GetNextImage()\n",
    "        image_converted1 = image_result1.Convert(PySpin.PixelFormat_BGR8)\n",
    "        #  Convert the Image object to RGB array\n",
    "        width = image_result1.GetWidth()\n",
    "        height = image_result1.GetHeight()\n",
    "        rgb_array1 = image_converted1.GetData()\n",
    "        rgb_array1 = rgb_array1.reshape(height, width, 3)\n",
    "        image1 = cv2.resize(rgb_array1, (Width,Height))\n",
    "        \n",
    "        now_line = cut_line(frame)\n",
    "        now_px = np.mean(now_line.flatten())\n",
    "        \n",
    "        if cnt>1:\n",
    "    \n",
    "            center = cut_line(frame)\n",
    "            #now_px - pre_px > 10 회색 부분의 픽셀값의 평균과 이전 프레임의 회색 부분의 픽셀 값의 차이가 10보다 크고,\n",
    "            #가온데 부분(이미지의 [450:550:,600:700]부분)의 픽셀 값이 100보다 크고,\n",
    "            #이전의 캡쳐 시점에서 0.2초가 지났을 때 캡쳐 진행\n",
    "            if ((now_px - pre_px) > 10) & (np.mean(center)>100)&(time.time()-t > 0.2) :\n",
    "                f_cnt=0\n",
    "                print(\"detected\")\n",
    "                print(f_cnt)\n",
    "\n",
    "                t = time.time()\n",
    "            if f_cnt == 8:\n",
    "                #detected.append(frame2)\n",
    "                im = image1[20:620,370:950]  #불량검출할 제품영역 지정\n",
    "                im = cv2.resize(im,(224,224))\n",
    "                im = im.reshape(1,224,224,3)\n",
    "                im = im / 255 #정규화\n",
    "                if np.argmax(new_model.predict(im)) == 1:\n",
    "                    print(\"불량\")\n",
    "                    a_detected.append(image1[20:620,370:950])\n",
    "                else:\n",
    "                    print(\"정상\")\n",
    "                    n_detected.append(image1[20:620,370:950])\n",
    "            \n",
    "        f_cnt+=1\n",
    "        \n",
    "        pre_px = now_px\n",
    "        cnt+=1\n",
    "\n",
    "        \n",
    "        cv2.imshow(\"Cam1\",image1)\n",
    "\n",
    "        \n",
    "        if cv2.waitKey(1) & 0xFF==ord(\"q\"):\n",
    "            video1.release()\n",
    "            video2.release()\n",
    "            break\n",
    "    \n",
    "    cam1.EndAcquisition()\n",
    "    \n",
    "    cv2.destroyAllWindows()\n",
    "    "
   ]
  }
 ],
 "metadata": {
  "kernelspec": {
   "display_name": "Python 3",
   "language": "python",
   "name": "python3"
  },
  "language_info": {
   "codemirror_mode": {
    "name": "ipython",
    "version": 3
   },
   "file_extension": ".py",
   "mimetype": "text/x-python",
   "name": "python",
   "nbconvert_exporter": "python",
   "pygments_lexer": "ipython3",
   "version": "3.7.3"
  }
 },
 "nbformat": 4,
 "nbformat_minor": 4
}
